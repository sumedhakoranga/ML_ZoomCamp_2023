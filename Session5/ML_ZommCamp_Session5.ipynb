{
  "nbformat": 4,
  "nbformat_minor": 0,
  "metadata": {
    "colab": {
      "provenance": [],
      "authorship_tag": "ABX9TyPZ9Re77ZlEmyW02G1cdmK6",
      "include_colab_link": true
    },
    "kernelspec": {
      "name": "python3",
      "display_name": "Python 3"
    },
    "language_info": {
      "name": "python"
    }
  },
  "cells": [
    {
      "cell_type": "markdown",
      "metadata": {
        "id": "view-in-github",
        "colab_type": "text"
      },
      "source": [
        "<a href=\"https://colab.research.google.com/github/sumedhakoranga/ML_ZoomCamp_2023/blob/main/ML_ZommCamp_Session5_Homework.ipynb\" target=\"_parent\"><img src=\"https://colab.research.google.com/assets/colab-badge.svg\" alt=\"Open In Colab\"/></a>"
      ]
    },
    {
      "cell_type": "markdown",
      "source": [
        "## Question 1\n",
        "\n",
        "* Install Pipenv\n",
        "* What's the version of pipenv you installed?\n",
        "* Use `--version` to find out\n"
      ],
      "metadata": {
        "id": "7UJCeB6zIW3V"
      }
    },
    {
      "cell_type": "code",
      "source": [
        "!pipenv --version"
      ],
      "metadata": {
        "colab": {
          "base_uri": "https://localhost:8080/"
        },
        "id": "ZGE5vM4i-ub1",
        "outputId": "d4b25d55-f7f6-4e04-fea2-bd4421f8498a"
      },
      "execution_count": null,
      "outputs": [
        {
          "output_type": "stream",
          "name": "stdout",
          "text": [
            "\u001b[1mpipenv\u001b[0m, version 2023.10.3\r\n"
          ]
        }
      ]
    },
    {
      "cell_type": "markdown",
      "source": [
        "## Question 2\n",
        "\n",
        "* Use Pipenv to install Scikit-Learn version 1.3.1\n",
        "* What's the first hash for scikit-learn you get in Pipfile.lock?\n",
        "\n",
        "> **Note**: you should create an empty folder for homework\n",
        "and do it there."
      ],
      "metadata": {
        "id": "N0F3OdkEIY86"
      }
    },
    {
      "cell_type": "code",
      "source": [
        "!pipenv install scikit-learn==1.3.1\n"
      ],
      "metadata": {
        "id": "Rl8QlN5y_eT3",
        "colab": {
          "base_uri": "https://localhost:8080/"
        },
        "outputId": "17f5903d-b826-4c8f-8f6d-1c79b1c9ec62"
      },
      "execution_count": null,
      "outputs": [
        {
          "output_type": "stream",
          "name": "stdout",
          "text": [
            "\u001b[1;32mInstalling scikit-\u001b[0m\u001b[1;33mlearn\u001b[0m\u001b[1;32m==\u001b[0m\u001b[1;36m1.3\u001b[0m\u001b[1;32m.\u001b[0m\u001b[1;36m1\u001b[0m\u001b[1;33m...\u001b[0m\r\n",
            "\u001b[?25lResolving scikit-\u001b[33mlearn\u001b[0m==\u001b[1;36m1.3\u001b[0m.\u001b[1;36m1\u001b[0m\u001b[33m...\u001b[0m\r\n",
            "\u001b[32m⠋\u001b[0m Installing...\r\u001b[2K✔ Installation Succeeded\r\n",
            "\u001b[2K\u001b[32m⠋\u001b[0m Installing scikit-learn...\n",
            "\u001b[1A\u001b[2K\u001b[1mInstalling dependencies from Pipfile.lock \u001b[0m\u001b[1m(\u001b[0m\u001b[1;36m4e2236\u001b[0m\u001b[1m)\u001b[0m\u001b[1;33m...\u001b[0m\n"
          ]
        }
      ]
    },
    {
      "cell_type": "markdown",
      "source": [
        "## Models\n",
        "\n",
        "We've prepared a dictionary vectorizer and a model.\n",
        "\n",
        "They were trained (roughly) using this code:\n",
        "\n",
        "```python\n",
        "features = ['job','duration', 'poutcome']\n",
        "dicts = df[features].to_dict(orient='records')\n",
        "\n",
        "dv = DictVectorizer(sparse=False)\n",
        "X = dv.fit_transform(dicts)\n",
        "\n",
        "model = LogisticRegression().fit(X, y)\n",
        "```\n",
        "\n",
        "> **Note**: You don't need to train the model. This code is just for your reference.\n",
        "\n",
        "And then saved with Pickle. Download them:\n",
        "\n",
        "* [DictVectorizer](https://github.com/DataTalksClub/machine-learning-zoomcamp/tree/master/cohorts/2023/05-deployment/homework/dv.bin?raw=true)\n",
        "* [LogisticRegression](https://github.com/DataTalksClub/machine-learning-zoomcamp/tree/master/cohorts/2023/05-deployment/homework/model1.bin?raw=true)\n",
        "\n",
        "With `wget`:\n",
        "\n",
        "```bash\n",
        "PREFIX=https://raw.githubusercontent.com/DataTalksClub/machine-learning-zoomcamp/master/cohorts/2023/05-deployment/homework\n",
        "wget $PREFIX/model1.bin\n",
        "wget $PREFIX/dv.bin\n",
        "```"
      ],
      "metadata": {
        "id": "G8i0-ddHKBds"
      }
    },
    {
      "cell_type": "code",
      "source": [
        "!PREFIX=https://raw.githubusercontent.com/DataTalksClub/machine-learning-zoomcamp/master/cohorts/2023/05-deployment/homework\n",
        "!wget $PREFIX/model1.bin\n",
        "!wget $PREFIX/dv.bin"
      ],
      "metadata": {
        "colab": {
          "base_uri": "https://localhost:8080/"
        },
        "id": "qbZIWCVDTnuH",
        "outputId": "05cdd8af-36d9-46a7-c35f-b432c0bc6ebd"
      },
      "execution_count": null,
      "outputs": [
        {
          "output_type": "stream",
          "name": "stdout",
          "text": [
            "/model1.bin: Scheme missing.\n",
            "/dv.bin: Scheme missing.\n"
          ]
        }
      ]
    },
    {
      "cell_type": "markdown",
      "source": [
        "# Question 3\n",
        "\n",
        "Let's use these models!\n",
        "\n",
        "* Write a script for loading these models with pickle\n",
        "* Score this client:\n",
        "\n",
        "```json\n",
        "{\"job\": \"retired\", \"duration\": 445, \"poutcome\": \"success\"}\n",
        "```\n",
        "\n",
        "What's the probability that this client will get a credit?\n",
        "\n",
        "* 0.162\n",
        "* 0.392\n",
        "* 0.652\n",
        "* 0.902\n",
        "\n",
        "If you're getting errors when unpickling the files, check their checksum:\n",
        "\n",
        "```bash\n",
        "$ md5sum model1.bin dv.bin\n",
        "8ebfdf20010cfc7f545c43e3b52fc8a1  model1.bin\n",
        "924b496a89148b422c74a62dbc92a4fb  dv.bin\n",
        "```"
      ],
      "metadata": {
        "id": "cTnFHFjvKKcn"
      }
    },
    {
      "cell_type": "code",
      "source": [
        "! md5sum model1.bin dv.bin"
      ],
      "metadata": {
        "colab": {
          "base_uri": "https://localhost:8080/"
        },
        "id": "lOF4upsKauDs",
        "outputId": "399222a1-e03b-4335-b071-612260a27cb0"
      },
      "execution_count": null,
      "outputs": [
        {
          "output_type": "stream",
          "name": "stdout",
          "text": [
            "8ebfdf20010cfc7f545c43e3b52fc8a1  model1.bin\r\n",
            "924b496a89148b422c74a62dbc92a4fb  dv.bin\r\n"
          ]
        }
      ]
    },
    {
      "cell_type": "code",
      "source": [
        "import pickle\n",
        "import sklearn"
      ],
      "metadata": {
        "id": "eCf6H9CLLEhg"
      },
      "execution_count": null,
      "outputs": []
    },
    {
      "cell_type": "code",
      "source": [
        "with open('model1.bin','rb') as f_in:\n",
        "    model=pickle.load(f_in)"
      ],
      "metadata": {
        "colab": {
          "base_uri": "https://localhost:8080/"
        },
        "id": "em1TYe1UJQ7w",
        "outputId": "fc71c079-27df-4c36-d6d7-99bff12e45ee"
      },
      "execution_count": null,
      "outputs": [
        {
          "output_type": "stream",
          "name": "stderr",
          "text": [
            "/home/sumedha/anaconda3/lib/python3.10/site-packages/sklearn/base.py:299: UserWarning: Trying to unpickle estimator LogisticRegression from version 1.3.1 when using version 1.2.1. This might lead to breaking code or invalid results. Use at your own risk. For more info please refer to:\n",
            "https://scikit-learn.org/stable/model_persistence.html#security-maintainability-limitations\n",
            "  warnings.warn(\n"
          ]
        }
      ]
    },
    {
      "cell_type": "code",
      "source": [
        "with open('dv.bin','rb') as f_in:\n",
        "    dv=pickle.load(f_in)"
      ],
      "metadata": {
        "colab": {
          "base_uri": "https://localhost:8080/"
        },
        "id": "tScayPrkLgSL",
        "outputId": "11fdc1d0-ae1b-4192-9975-fe3a5c370fd9"
      },
      "execution_count": null,
      "outputs": [
        {
          "output_type": "stream",
          "name": "stderr",
          "text": [
            "/home/sumedha/anaconda3/lib/python3.10/site-packages/sklearn/base.py:299: UserWarning: Trying to unpickle estimator DictVectorizer from version 1.3.1 when using version 1.2.1. This might lead to breaking code or invalid results. Use at your own risk. For more info please refer to:\n",
            "https://scikit-learn.org/stable/model_persistence.html#security-maintainability-limitations\n",
            "  warnings.warn(\n"
          ]
        }
      ]
    },
    {
      "cell_type": "code",
      "source": [
        "dv, model"
      ],
      "metadata": {
        "colab": {
          "base_uri": "https://localhost:8080/"
        },
        "id": "b60AKgjwdlsX",
        "outputId": "ef1aef09-ce18-464c-8ce6-e0a579ef1331"
      },
      "execution_count": null,
      "outputs": [
        {
          "output_type": "execute_result",
          "data": {
            "text/plain": [
              "(DictVectorizer(sparse=False), LogisticRegression())"
            ]
          },
          "metadata": {},
          "execution_count": 7
        }
      ]
    },
    {
      "cell_type": "code",
      "source": [
        "our_file={\"job\": \"retired\", \"duration\": 445, \"poutcome\": \"success\"}"
      ],
      "metadata": {
        "id": "Pzw1ZcGUfC0K"
      },
      "execution_count": null,
      "outputs": []
    },
    {
      "cell_type": "code",
      "source": [
        "X= dv.transform([our_file])"
      ],
      "metadata": {
        "id": "GfpWcDnCeLQW"
      },
      "execution_count": null,
      "outputs": []
    },
    {
      "cell_type": "code",
      "source": [
        "model.predict_proba(X)[0,1]"
      ],
      "metadata": {
        "colab": {
          "base_uri": "https://localhost:8080/"
        },
        "id": "_6TRsA2MdxTp",
        "outputId": "0e6a2fe7-4042-448c-de31-4f704a9566a6"
      },
      "execution_count": null,
      "outputs": [
        {
          "output_type": "execute_result",
          "data": {
            "text/plain": [
              "0.9019309332297606"
            ]
          },
          "metadata": {},
          "execution_count": 10
        }
      ]
    },
    {
      "cell_type": "markdown",
      "source": [
        "## Question 4\n",
        "\n",
        "Now let's serve this model as a web service\n",
        "\n",
        "* Install Flask and gunicorn (or waitress, if you're on Windows)\n",
        "* Write Flask code for serving the model\n",
        "* Now score this client using `requests`:\n",
        "\n",
        "```python\n",
        "url = \"YOUR_URL\"\n",
        "client = {\"job\": \"unknown\", \"duration\": 270, \"poutcome\": \"failure\"}\n",
        "requests.post(url, json=client).json()\n",
        "```\n",
        "\n",
        "What's the probability that this client will get a credit?\n",
        "\n",
        "* 0.140\n",
        "* 0.440\n",
        "* 0.645\n",
        "* 0.845"
      ],
      "metadata": {
        "id": "TTS3XaXDf8U5"
      }
    },
    {
      "cell_type": "code",
      "source": [
        "import requests"
      ],
      "metadata": {
        "id": "KHvif3j9n8CF"
      },
      "execution_count": null,
      "outputs": []
    },
    {
      "cell_type": "code",
      "source": [
        "url = 'http://127.0.0.1:9696/predict'\n",
        "client = {\"job\": \"unknown\", \"duration\": 270, \"poutcome\": \"failure\"}\n",
        "requests.post(url, json=client).json()"
      ],
      "metadata": {
        "colab": {
          "base_uri": "https://localhost:8080/"
        },
        "id": "lT2Ka4tvg36H",
        "outputId": "ab72254b-bf2c-4d08-8596-021afbb23165"
      },
      "execution_count": null,
      "outputs": [
        {
          "output_type": "execute_result",
          "data": {
            "text/plain": [
              "{'credit': False, 'credit_probability': 0.13968947052356817}"
            ]
          },
          "metadata": {},
          "execution_count": 14
        }
      ]
    },
    {
      "cell_type": "markdown",
      "source": [
        "## Docker\n",
        "\n",
        "Install [Docker](https://github.com/DataTalksClub/machine-learning-zoomcamp/blob/master/05-deployment/06-docker.md).\n",
        "We will use it for the next two questions.\n",
        "\n",
        "For these questions, we prepared a base image: `svizor/zoomcamp-model:3.10.12-slim`.\n",
        "You'll need to use it (see Question 5 for an example).\n",
        "\n",
        "This image is based on `python:3.10.12-slim` and has a logistic regression model\n",
        "(a different one) as well a dictionary vectorizer inside.\n",
        "\n",
        "This is how the Dockerfile for this image looks like:\n",
        "\n",
        "```docker\n",
        "FROM python:3.10.12-slim\n",
        "WORKDIR /app\n",
        "COPY [\"model2.bin\", \"dv.bin\", \"./\"]\n",
        "```\n",
        "\n",
        "We already built it and then pushed it to [`svizor/zoomcamp-model:3.10.12-slim`](https://hub.docker.com/r/svizor/zoomcamp-model).\n",
        "\n",
        "> **Note**: You don't need to build this docker image, it's just for your reference.\n",
        "\n",
        "\n",
        "## Question 5\n",
        "\n",
        "Download the base image `svizor/zoomcamp-model:3.10.12-slim`. You can easily make it by using [docker pull](https://docs.docker.com/engine/reference/commandline/pull/) command.\n",
        "\n",
        "So what's the size of this base image?\n",
        "\n",
        "* 47 MB\n",
        "* 147 MB\n",
        "* 374 MB\n",
        "* 574 MB\n",
        "\n",
        "You can get this information when running `docker images` - it'll be in the \"SIZE\" column.\n",
        "\n",
        "\n",
        "## Dockerfile\n",
        "\n",
        "Now create your own Dockerfile based on the image we prepared.\n",
        "\n",
        "It should start like that:\n",
        "\n",
        "```docker\n",
        "FROM svizor/zoomcamp-model:3.10.12-slim\n",
        "# add your stuff here\n",
        "```\n",
        "\n",
        "Now complete it:\n",
        "\n",
        "* Install all the dependencies form the Pipenv file\n",
        "* Copy your Flask script\n",
        "* Run it with Gunicorn\n",
        "\n",
        "After that, you can build your docker image.\n"
      ],
      "metadata": {
        "id": "1gH2CdT7pIFY"
      }
    },
    {
      "cell_type": "markdown",
      "source": [
        "## Question 6\n",
        "\n",
        "Let's run your docker container!\n",
        "\n",
        "After running it, score this client once again:\n",
        "\n",
        "```python\n",
        "url = \"YOUR_URL\"\n",
        "client = {\"job\": \"retired\", \"duration\": 445, \"poutcome\": \"success\"}\n",
        "requests.post(url, json=client).json()\n",
        "```\n",
        "\n",
        "What's the probability that this client will get a credit now?\n",
        "\n",
        "* 0.168\n",
        "* 0.530\n",
        "* 0.730\n",
        "* 0.968"
      ],
      "metadata": {
        "id": "ulFOUBe9NTLb"
      }
    },
    {
      "cell_type": "code",
      "source": [],
      "metadata": {
        "id": "5JQJoRX6pW0U"
      },
      "execution_count": null,
      "outputs": []
    }
  ]
}